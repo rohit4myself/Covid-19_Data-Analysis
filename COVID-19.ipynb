{
 "cells": [
  {
   "cell_type": "markdown",
   "metadata": {},
   "source": [
    "## Corona Virus\n",
    "##### Coronaviruses are zoonotic viruses (means transmitted between animals and people).\n",
    "##### Symptoms include from fever, cough, respiratory symptoms, and breathing difficulties.\n",
    "##### In severe cases, it can cause pneumonia, severe acute respiratory syndrome (SARS), kidney failure and even death.\n",
    "##### Coronaviruses are also asymptomatic, means a person can be a carrier for the infection but experiences no symptoms.\n",
    "\n",
    "### Novel coronavirus (nCoV)\n",
    "##### A novel coronavirus (nCoV) is a new strain that has not been previously identified in humans.\n",
    "\n",
    "### COVID-19 (Corona Virus Disease 2019)\n",
    "##### Caused by a SARS-COV-2 corona virus.\n",
    "##### First identified in Wuhan, Hubei, China. Earliest reported symptoms reported in November 2019.\n",
    "##### First cases were linked to contact with the Huanan Seafood Wholesale Market, which sold live animals.\n",
    "##### On 30 January the WHO declared the outbreak to be a Public Health Emergency of International Concern"
   ]
  },
  {
   "cell_type": "markdown",
   "metadata": {},
   "source": [
    "![](images.jpg)"
   ]
  },
  {
   "cell_type": "markdown",
   "metadata": {},
   "source": [
    " "
   ]
  },
  {
   "cell_type": "markdown",
   "metadata": {},
   "source": [
    "##### Importing Necessary Libraries:"
   ]
  },
  {
   "cell_type": "markdown",
   "metadata": {},
   "source": [
    " "
   ]
  },
  {
   "cell_type": "code",
   "execution_count": null,
   "metadata": {},
   "outputs": [],
   "source": [
    "# import the necessary libraries\n",
    "import numpy as np \n",
    "import pandas as pd \n",
    "import os\n",
    "from datetime import datetime, timedelta"
   ]
  },
  {
   "cell_type": "code",
   "execution_count": null,
   "metadata": {},
   "outputs": [],
   "source": [
    "pip install plotly"
   ]
  },
  {
   "cell_type": "code",
   "execution_count": null,
   "metadata": {},
   "outputs": [],
   "source": [
    "pip install pycountry"
   ]
  },
  {
   "cell_type": "code",
   "execution_count": null,
   "metadata": {},
   "outputs": [],
   "source": [
    "# Visualisation libraries\n",
    "import matplotlib.pyplot as plt\n",
    "%matplotlib inline\n",
    "import seaborn as sns\n",
    "sns.set()\n",
    "import pycountry\n",
    "import plotly.offline as py\n",
    "import plotly.express as px\n",
    "from ipywidgets import widgets\n",
    "from IPython.display import display\n",
    "!jupyter nbextension enable --py --sys-prefix widgetsnbextension\n",
    "\n",
    "py.init_notebook_mode(connected=True)\n",
    "import folium \n",
    "from folium import plugins\n",
    "plt.style.use(\"fivethirtyeight\")# for pretty graphs\n",
    "from plotly.offline import init_notebook_mode, iplot \n",
    "import plotly.graph_objs as go\n",
    "\n",
    "from plotly.offline import download_plotlyjs,init_notebook_mode,plot,iplot"
   ]
  },
  {
   "cell_type": "code",
   "execution_count": null,
   "metadata": {},
   "outputs": [],
   "source": [
    "# Increase the default plot size and set the color scheme\n",
    "plt.rcParams['figure.figsize'] = 8, 5\n",
    "# Disable warnings \n",
    "import warnings\n",
    "warnings.filterwarnings('ignore')"
   ]
  },
  {
   "cell_type": "code",
   "execution_count": null,
   "metadata": {},
   "outputs": [],
   "source": [
    "#!pip install pywaffle\n",
    "from pywaffle import Waffle"
   ]
  },
  {
   "cell_type": "code",
   "execution_count": null,
   "metadata": {},
   "outputs": [],
   "source": [
    "from ipywidgets import widgets\n",
    "from IPython.display import display\n",
    "!jupyter nbextension enable --py --sys-prefix widgetsnbextension\n",
    "\n",
    "py.init_notebook_mode(connected=True)\n",
    "import folium \n",
    "from folium import plugins\n",
    "plt.style.use(\"fivethirtyeight\")# for pretty graphs"
   ]
  },
  {
   "cell_type": "code",
   "execution_count": null,
   "metadata": {},
   "outputs": [],
   "source": [
    "plt.rcParams['image.cmap'] = 'viridis'"
   ]
  },
  {
   "cell_type": "markdown",
   "metadata": {},
   "source": [
    "##### Loading Data:"
   ]
  },
  {
   "cell_type": "code",
   "execution_count": null,
   "metadata": {},
   "outputs": [],
   "source": [
    "df_cov = pd.read_csv('covid_19_data.csv')\n",
    "df_cnf = pd.read_csv('time_series_covid_19_confirmed.csv')\n",
    "df_rec = pd.read_csv('time_series_covid_19_recovered.csv')\n",
    "df_death = pd.read_csv('time_series_covid_19_deaths.csv')\n",
    "df_cov.drop(columns=['SNo'],inplace=True)\n",
    "\n",
    "df_cov['ObservationDate'] = pd.to_datetime(df_cov['ObservationDate'] )\n",
    "df_cov = df_cov.set_index('ObservationDate')"
   ]
  },
  {
   "cell_type": "markdown",
   "metadata": {},
   "source": [
    " "
   ]
  },
  {
   "cell_type": "markdown",
   "metadata": {},
   "source": [
    "##### Visualizing Spread of Covid-19 across the globe:"
   ]
  },
  {
   "cell_type": "code",
   "execution_count": null,
   "metadata": {},
   "outputs": [],
   "source": [
    "df_wrld = df_cov.loc[:,['Confirmed','Deaths','Recovered']]\n",
    "df_wrld = df_wrld.groupby(['ObservationDate']).sum()\n",
    "print(df_wrld.head())\n",
    "# df_wrld.head()\n",
    "cnf_data = go.Scatter(x=df_wrld.index,\n",
    "                         y=df_wrld.Confirmed, name = \"Confirmed\")\n",
    "dea_data = go.Scatter(x=df_wrld.index,\n",
    "                         y=df_wrld.Deaths,\n",
    "                     yaxis='y2', name = \"Deaths\")\n",
    "rec_data = go.Scatter(x=df_wrld.index,\n",
    "                         y=df_wrld.Recovered,\n",
    "                     yaxis='y3', name = \"Recovered\")\n",
    "\n",
    "layout = go.Layout(title='COVID-19 progression', xaxis=dict(title='Date'),\n",
    "                   yaxis=dict(color='blue'),\n",
    "                  yaxis2=dict(color='red',\n",
    "                               overlaying='y', side='right'),\n",
    "                  yaxis3=dict(color='green',\n",
    "                               overlaying='y', side='left'),\n",
    "                  template=\"plotly_dark\")\n",
    "\n",
    "fig = go.Figure(data=[cnf_data,dea_data,rec_data], layout=layout)\n",
    "fig.show()"
   ]
  },
  {
   "cell_type": "markdown",
   "metadata": {},
   "source": [
    "###### The vrius spread gained momentum in first week of February and there by increased exponentially there after. \n",
    "###### By March 25, 2020:\n",
    "         Confirmed Cases: 467.594k\n",
    "                  Deaths:  21.181k\n",
    "                   Cured: 113.770k"
   ]
  },
  {
   "cell_type": "markdown",
   "metadata": {},
   "source": [
    " "
   ]
  },
  {
   "cell_type": "markdown",
   "metadata": {},
   "source": [
    "##### How did the virus propagate from Mainland China to Rest of the World?"
   ]
  },
  {
   "cell_type": "code",
   "execution_count": null,
   "metadata": {},
   "outputs": [],
   "source": [
    "cnf_period = df_cnf.drop(columns=['Province/State','Country/Region','Lat','Long']).columns\n",
    "death_period = df_death.drop(columns=['Province/State','Country/Region','Lat','Long']).columns\n",
    "rec_period = df_rec.drop(columns=['Province/State','Country/Region','Lat','Long']).columns\n",
    "\n",
    "df_cnf1 = df_cnf.melt(id_vars=['Province/State','Country/Region','Lat','Long'],value_vars=cnf_period,var_name='Date',value_name='count')\n",
    "df_death1 = df_death.melt(id_vars=['Province/State','Country/Region','Lat','Long'],value_vars=death_period,var_name='Date',value_name='count')\n",
    "df_rec1 = df_rec.melt(id_vars=['Province/State','Country/Region','Lat','Long'],value_vars=rec_period,var_name='Date',value_name='count')\n",
    "\n",
    "\n",
    "\n",
    "\n",
    "\n",
    "df_cnf1.dropna(subset=['count', 'Country/Region'],inplace=True) \n",
    "df_death1.dropna(subset=['count', 'Country/Region'],inplace=True) \n",
    "df_rec1.dropna(subset=['count', 'Country/Region'],inplace=True) \n",
    "\n"
   ]
  },
  {
   "cell_type": "code",
   "execution_count": null,
   "metadata": {},
   "outputs": [],
   "source": [
    "fig = px.scatter_geo(df_cnf1, lat='Lat',lon='Long',color='Country/Region',\n",
    "                     hover_name=\"Country/Region\", size='count',\n",
    "                     animation_frame=\"Date\",\n",
    "                     projection=\"natural earth\",\n",
    "                    title='Patient Confirm Progression ',template=\"plotly_dark\")\n",
    "# fig['data'][0].update(mode='markers+text', textposition='bottom center',\n",
    "#                       text=df_cnf['Country/Region'].map('{}'.format).astype(str)+' '+\\\n",
    "#                       str(df_cnf['3/20/20']))\n",
    "\n",
    "\n",
    "#     time.sleep(1)\n",
    "    \n",
    "fig.show()"
   ]
  },
  {
   "cell_type": "markdown",
   "metadata": {},
   "source": [
    "The Pandemic that Started from China expanded its wings in East Asia by end of January, there after virus slowly propagated to other countries. By start of March, West European Countries especially Italy and Spain were bogged down by it sudden attack. Even gulf countries couldn't stay untouched to Covid 19. Iran was the most affected countries. By end of March, it can be observed that the virus is wrecking havoc in most of the world, majorly in US, Italy, Iran and Spain.  "
   ]
  },
  {
   "cell_type": "markdown",
   "metadata": {},
   "source": [
    "  "
   ]
  },
  {
   "cell_type": "markdown",
   "metadata": {},
   "source": [
    "#### Analysing the pattern in Deaths..."
   ]
  },
  {
   "cell_type": "code",
   "execution_count": null,
   "metadata": {},
   "outputs": [],
   "source": [
    "fig = px.scatter_geo(df_death1, lat='Lat',lon='Long',color='Country/Region',\n",
    "                     hover_name=\"Country/Region\", size='count',\n",
    "                     animation_frame=\"Date\",\n",
    "                     projection=\"natural earth\",\n",
    "                    title='Patient Death Progression ',template=\"plotly_dark\")\n",
    "#fig['data'][0].update(mode='markers+text', textposition='bottom center',\n",
    "                       #text=df_cnf['Country/Region'].map('{}'.format).astype(str)+' '+\\\n",
    "                       #str(df_cnf['3/20/20']))\n",
    "\n",
    "#time.sleep(1)\n",
    "    \n",
    "fig.show()"
   ]
  },
  {
   "cell_type": "markdown",
   "metadata": {},
   "source": [
    "Until Mid February, hardly any deaths were reported outside the Mainland: China. By the start of March, death toll begun to rise in East Asia, Gulf Countries, West Europe(Italy and Spain) and US. It can seen that, by end of March, the virus had caught hold of almost entire world: USA, West Europe had turned into death hotspots. In this phase, few deaths were also reported from South American and African Continents and some South Asian Countries(India and Pakistan) also fell prey to it."
   ]
  },
  {
   "cell_type": "markdown",
   "metadata": {},
   "source": [
    " "
   ]
  },
  {
   "cell_type": "markdown",
   "metadata": {},
   "source": [
    "##### Nations' competency to tackle Corona..\n",
    "###### Analysing Countrywise Recovery Status of Corona Patients:"
   ]
  },
  {
   "cell_type": "code",
   "execution_count": null,
   "metadata": {},
   "outputs": [],
   "source": [
    "fig = px.scatter_geo(df_rec1, lat='Lat',lon='Long',color='Country/Region',\n",
    "                     hover_name=\"Country/Region\", size='count',\n",
    "                     animation_frame=\"Date\",\n",
    "                     projection=\"natural earth\",\n",
    "                    title='Patient Recovered progression ',template=\"plotly_dark\")\n",
    "# fig['data'][0].update(mode='markers+text', textposition='bottom center',\n",
    "#                       text=df_cnf['Country/Region'].map('{}'.format).astype(str)+' '+\\\n",
    "#                       str(df_cnf['3/20/20']))\n",
    "\n",
    "\n",
    "#     time.sleep(1)\n",
    "    \n",
    "fig.show()"
   ]
  },
  {
   "cell_type": "markdown",
   "metadata": {},
   "source": [
    "In Early February, China began to cope up with the situation. Positive outcomes(Patient Recovery Rates) began to surge in China. Following China's steps to curb Death rate, soon precautionary measures, lockdowns were implemented in other parts of the world. It faciliated virus containment and fostered the recovery rates. By End of March, China managed to successfully treat its patients and around 74k patients recovered from virus attack. Positive outcomes were witnessed from Rest of the World too. Italy counted 11k recoveries, Iran and Spain accounted 11k and 9.5k recoveries respectively. The superpower USA however seemed inefficient to cope-up with the Pandemic, as the crisis there continued."
   ]
  },
  {
   "cell_type": "markdown",
   "metadata": {},
   "source": [
    " "
   ]
  },
  {
   "cell_type": "markdown",
   "metadata": {},
   "source": [
    "###  COVID-19 \"INDIA\" "
   ]
  },
  {
   "cell_type": "markdown",
   "metadata": {},
   "source": [
    "##### Loading Dataset:"
   ]
  },
  {
   "cell_type": "code",
   "execution_count": null,
   "metadata": {},
   "outputs": [],
   "source": [
    "covid_df = pd.read_csv('covid_19_india.csv')\n",
    "covid_df.head()"
   ]
  },
  {
   "cell_type": "code",
   "execution_count": null,
   "metadata": {},
   "outputs": [],
   "source": [
    "#Imorting necessary libraries and loading related data files:"
   ]
  },
  {
   "cell_type": "code",
   "execution_count": null,
   "metadata": {},
   "outputs": [],
   "source": [
    "# import geopandas as gpd\n",
    "# import seaborn as sns\n",
    "# sns.set_style('dark')\n",
    "\n",
    "# map_df = gpd.read_file('Indian_States.shp')\n",
    "# map_df.loc[0,['st_nm']] = 'Andaman and Nicobar Islands'\n",
    "# map_df.head()\n",
    "\n"
   ]
  },
  {
   "cell_type": "code",
   "execution_count": null,
   "metadata": {},
   "outputs": [],
   "source": [
    "df_india = pd.read_csv('covid_19_india.csv')\n",
    "# df_ind_bed =  pd.read_csv('HospitalBedsIndia.csv')\n",
    "df_ind_ICMR =  pd.read_csv('ICMRTestingDetails.csv')\n",
    "df_ind_indiv =  pd.read_csv('IndividualDetails.csv')\n",
    "# df_ind_census =  pd.read_csv('population_india_census2011.csv')\n",
    "\n",
    "df_india['Confirmed'] = df_india['ConfirmedIndianNational']+ df_india['ConfirmedForeignNational']"
   ]
  },
  {
   "cell_type": "code",
   "execution_count": null,
   "metadata": {},
   "outputs": [],
   "source": [
    "df_forMap = df_india.drop(columns=['Date','Sno']).groupby('State/UnionTerritory').sum()"
   ]
  },
  {
   "cell_type": "code",
   "execution_count": null,
   "metadata": {},
   "outputs": [],
   "source": [
    "merged = map_df.set_index('st_nm').join(df_forMap)\n",
    "#merged.fillna(0)"
   ]
  },
  {
   "cell_type": "code",
   "execution_count": null,
   "metadata": {
    "scrolled": false
   },
   "outputs": [],
   "source": [
    "import matplotlib.pyplot as plt\n",
    "%matplotlib inline\n",
    "!pip install descartes\n",
    "fig, ax = plt.subplots(5, figsize=(9, 45))\n",
    "\n",
    "\n",
    "topic = ['Confirmed','ConfirmedIndianNational','ConfirmedForeignNational','Cured','Deaths']\n",
    "cmaps = ['Oranges','Blues', 'Purples', 'Greens', 'Reds']\n",
    "for i,l in enumerate(topic):\n",
    "    ax[i].axis('off')\n",
    "    ax[i].set_title('{} Cases of COVID 19 in India'.format(l), fontdict={'fontsize': '20', 'fontweight' : '5'})\n",
    "    \n",
    "\n",
    "    merged.plot(column=l, cmap=cmaps[i], linewidth=0.8, ax=ax[i], edgecolor='0.75', legend=True)"
   ]
  },
  {
   "cell_type": "markdown",
   "metadata": {},
   "source": [
    "Highlights from above charts:\n",
    "Confirmed Cases:\n",
    "    Maharashtra and Kerala topped the list, followed by other states like Uttar Pradesh, Rajasthan, karnataka, Delhi, Gujrat and other states\n",
    "\n",
    "Foreign Nationals:\n",
    "    Among Confirmed cases, few were Foreign nationalists too.\n",
    "    Foreign nationalists confirmed cases came from: Haryana, Rajasthan, Maharashtra and Kerala majorly.\n",
    "        \n",
    "Deaths:\n",
    "    Majority Deaths reported beloneged to Maharashtra, karnataka, Gujrat and Haryana \n",
    "    \n",
    "Cured:\n",
    "    Some positive news of recovery cases recorded were from Uttar Pradesh, Kerala, Rajasthan and Haryana."
   ]
  },
  {
   "cell_type": "markdown",
   "metadata": {},
   "source": [
    " "
   ]
  },
  {
   "cell_type": "code",
   "execution_count": null,
   "metadata": {},
   "outputs": [],
   "source": [
    "#Data Processing\n",
    "#Plotting Daily Rise in Cases assorted by Confirmed, Cured and Deaths"
   ]
  },
  {
   "cell_type": "code",
   "execution_count": null,
   "metadata": {},
   "outputs": [],
   "source": [
    "import plotly.graph_objs as go\n",
    "df_datechart = df_india.drop(columns=['State/UnionTerritory','Sno']).groupby('Date').sum()\n",
    "\n",
    "cnf_data = go.Bar(x=df_datechart.index,\n",
    "                         y=df_datechart.Confirmed,hovertext='Confirmed', name = \"Confirmed\")\n",
    "dea_data = go.Bar(x=df_datechart.index,\n",
    "                         y=df_datechart.Deaths,hovertext='Deaths',\n",
    "                     yaxis='y2', name = \"Deaths\")\n",
    "rec_data = go.Bar(x=df_datechart.index,\n",
    "                         y=df_datechart.Cured,hovertext='Cured',\n",
    "                     yaxis='y2', name = \"Cured\")\n",
    "\n",
    "layout = go.Layout(title='COVID-19 progression in India', xaxis=dict(title='Date'),\n",
    "                   yaxis=dict(title='Confirmed',color='blue'),\n",
    "                  yaxis2=dict(title='Death', color='red',\n",
    "                               overlaying='y', side='right'),\n",
    "                  yaxis3=dict(title='   Cured', color='green',\n",
    "                               overlaying='y'),\n",
    "                  template=\"plotly_dark\")\n",
    "\n",
    "fig = go.Figure(data=[cnf_data,dea_data,rec_data], layout=layout)\n",
    "fig.update_traces(marker_line_width=1.5, opacity=0.7)\n",
    "fig.show()"
   ]
  },
  {
   "cell_type": "markdown",
   "metadata": {},
   "source": [
    "The Corona Virus case figures began to surge from first week of March. By each passing day, contiinuous rise was witnessed in figures. On averge, 15 new cases were recorded daily until 2nd week of march. The exponential growth was seen henceforth. Death toll increased. \n",
    "\n",
    "###### As of 28th March, India had:\n",
    "\n",
    "Confirmed Cases: 873\n",
    "\n",
    "Cured/Recoverd/Migrated: 79\n",
    "\n",
    "Deaths: 19"
   ]
  },
  {
   "cell_type": "markdown",
   "metadata": {},
   "source": [
    " "
   ]
  },
  {
   "cell_type": "markdown",
   "metadata": {},
   "source": [
    "#### Visualizing State wise Spread of Corona Virus: "
   ]
  },
  {
   "cell_type": "code",
   "execution_count": null,
   "metadata": {},
   "outputs": [],
   "source": [
    "df_ind=df_india.groupby(['State/UnionTerritory',\"Date\"]).head()\n",
    "States=np.unique(df_ind['State/UnionTerritory'].values)\n",
    "States"
   ]
  },
  {
   "cell_type": "code",
   "execution_count": null,
   "metadata": {},
   "outputs": [],
   "source": [
    "top5aff_states=df_ind.groupby(['State/UnionTerritory']).max().sort_values(['ConfirmedIndianNational'],ascending=False)[:5].index.values"
   ]
  },
  {
   "cell_type": "code",
   "execution_count": null,
   "metadata": {},
   "outputs": [],
   "source": [
    "dates=df_ind[df_ind['State/UnionTerritory'] == 'Kerala']['Date'].values"
   ]
  },
  {
   "cell_type": "code",
   "execution_count": null,
   "metadata": {},
   "outputs": [],
   "source": [
    "for state in States:\n",
    "    df1=df_ind[df_ind['State/UnionTerritory'] == state]\n",
    "    \n",
    "    rec_date_idx=np.where(dates==df1['Date'].values[0])[0][0]\n",
    "    if rec_date_idx >0:\n",
    "        df2=pd.DataFrame()\n",
    "        df2['Date']=dates[:rec_date_idx]\n",
    "        df2['ConfirmedIndianNational'] =  np.zeros(rec_date_idx)\n",
    "        df2['ConfirmedForeignNational'] = np.zeros(rec_date_idx)\n",
    "        df2['Cured']=np.zeros(rec_date_idx)\n",
    "        df2['Deaths']=np.zeros(rec_date_idx)\n",
    "        df2['State/UnionTerritory']=state\n",
    "        df2=df2.append(df1,ignore_index=True)\n",
    "    else: df2=df1\n",
    "    df2.to_csv(state+'.csv',index=False)"
   ]
  },
  {
   "cell_type": "code",
   "execution_count": null,
   "metadata": {},
   "outputs": [],
   "source": [
    "plt.figure(figsize=(10,10))\n",
    "\n",
    "for state in States:\n",
    "    df1=pd.read_csv(''+state+'.csv')\n",
    "    df1=df1[30:]\n",
    "    plt.plot(df1['Date'],df1['ConfirmedIndianNational'],\"*-\",label=state)\n",
    "    #np.savetxt(state+'.txt',df1['ConfirmedIndianNational']+df1['ConfirmedForeignNational'])\n",
    "plt.xticks(rotation=90)\n",
    "plt.legend()\n",
    "plt.savefig('indian_states.png')"
   ]
  },
  {
   "cell_type": "markdown",
   "metadata": {},
   "source": [
    "Maharashtra and Kerala are the worst affected states. \n",
    "\n",
    "From 14th March to 28th March, Maharahtra recorded 170 new casesapproximately. Steep rise in daily count was noticed in the period\n",
    "\n",
    "For Kerala, the Covid-19 impact was seen from 20th March. Within a week, 150 aprox. new cases were recorded.\n",
    "\n",
    "No cases were recoreded in Tamil Nadu from 25th march to 28th March.\n"
   ]
  },
  {
   "cell_type": "markdown",
   "metadata": {},
   "source": [
    " "
   ]
  },
  {
   "cell_type": "markdown",
   "metadata": {},
   "source": [
    "#### Analysing Count of Covid-19 Cases by Date:"
   ]
  },
  {
   "cell_type": "code",
   "execution_count": null,
   "metadata": {},
   "outputs": [],
   "source": [
    "covid_df = df_india.copy()\n",
    "covid_df.drop(['Sno'],axis=1,inplace=True)\n",
    "covid_df.index = range(1,covid_df.shape[0]+1)\n",
    "covid_india = covid_df.copy()"
   ]
  },
  {
   "cell_type": "code",
   "execution_count": null,
   "metadata": {},
   "outputs": [],
   "source": [
    "covid_india['Total Confirmed cases'] = covid_india['ConfirmedIndianNational'] + covid_india['ConfirmedForeignNational']\n",
    "covid_india['Total Active cases'] = covid_india['ConfirmedIndianNational'] + covid_india['ConfirmedForeignNational'] - covid_india['Cured'] - covid_india['Deaths']"
   ]
  },
  {
   "cell_type": "code",
   "execution_count": null,
   "metadata": {},
   "outputs": [],
   "source": [
    "covid_india.rename(columns={\"State/UnionTerritory\": \"States\", \"ConfirmedIndianNational\": \"Confirmed cases (Indian Nationals)\"},inplace=True)\n",
    "covid_india.rename(columns={\"ConfirmedForeignNational\": \"Confirmed cases (Foreign Nationals)\", \"Cured\": \"Cured/Discharged/Migrated\"},inplace=True)\n",
    "covid_india = covid_india[covid_india.States != 'Chattisgarh']\n",
    "covid_india = covid_india[covid_india.States != 'Pondicherry']\n",
    "covid_india = covid_india[covid_india.States != 'Union Territory of Jammu and Kashmir']\n",
    "covid_india = covid_india[covid_india.States != 'Union Territory of Chandigarh']\n",
    "covid_india = covid_india[covid_india.States != 'Union Territory of Ladakh']"
   ]
  },
  {
   "cell_type": "code",
   "execution_count": null,
   "metadata": {},
   "outputs": [],
   "source": [
    "covid_india.index = range(1,covid_india.shape[0]+1)\n",
    "indian_states = covid_india.copy()\n",
    "covid_india['Date'] = pd.to_datetime(covid_india['Date'], dayfirst=True)\n",
    "covid_india.sort_values(by='Date', inplace=True)"
   ]
  },
  {
   "cell_type": "code",
   "execution_count": null,
   "metadata": {},
   "outputs": [],
   "source": [
    "covid_ind = covid_df.copy()\n",
    "covid_ind['Total Confirmed cases'] = covid_ind['ConfirmedIndianNational'] + covid_ind['ConfirmedForeignNational']\n",
    "covid_ind['Total Active cases'] = covid_ind['ConfirmedIndianNational'] + covid_ind['ConfirmedForeignNational'] - covid_ind['Cured'] - covid_ind['Deaths']\n",
    "date_wise_data = covid_ind[[\"Date\",\"Total Confirmed cases\",\"Deaths\",\"Cured\"]]\n",
    "date_wise_data['Date'] = date_wise_data['Date'].apply(pd.to_datetime, dayfirst=True)\n",
    "date_wise_data"
   ]
  },
  {
   "cell_type": "code",
   "execution_count": null,
   "metadata": {},
   "outputs": [],
   "source": [
    "from IPython.display import Markdown\n",
    "date_wise_data = date_wise_data.groupby([\"Date\"]).sum().reset_index()\n",
    "def formatted_text(string):\n",
    "    display(Markdown(string))\n",
    "formatted_text('***Date wise data***')\n",
    "date_wise_data"
   ]
  },
  {
   "cell_type": "code",
   "execution_count": null,
   "metadata": {},
   "outputs": [],
   "source": [
    "#Time- Bound Cases Visualization:"
   ]
  },
  {
   "cell_type": "code",
   "execution_count": null,
   "metadata": {},
   "outputs": [],
   "source": [
    "import plotly.offline as py\n",
    "import plotly.express as px\n",
    "temp = date_wise_data.melt(id_vars=\"Date\", value_vars=['Cured', 'Deaths', 'Total Confirmed cases'],\n",
    "                 var_name='Case', value_name='Count')\n",
    "\n",
    "fig = px.area(temp, x=\"Date\", y=\"Count\", color='Case',title='Time wise cases analysis', color_discrete_sequence = ['#21bf73', '#ff2e63', '#fe9801'])\n",
    "fig.show()"
   ]
  },
  {
   "cell_type": "markdown",
   "metadata": {},
   "source": [
    "Significant rise in new cases was seen from 1st March 2020. \n",
    "\n",
    "In March, the count soared from 3 to 873 until 28th march. \n",
    "\n",
    "The majority cases were still active till then. 19 Death Cases were reported and 79 patients recovered fro Covid-19 until 28th march.\n"
   ]
  },
  {
   "cell_type": "code",
   "execution_count": null,
   "metadata": {},
   "outputs": [],
   "source": [
    "#Tree Map:"
   ]
  },
  {
   "cell_type": "code",
   "execution_count": null,
   "metadata": {},
   "outputs": [],
   "source": [
    "statewise_cases = pd.DataFrame(covid_ind.groupby(['State/UnionTerritory'])['Total Confirmed cases', 'Deaths', 'Cured'].max().reset_index())\n",
    "#statewise_cases[\"Country\"] = \"India\" # in order to have a single root node\n",
    "fig = px.treemap(statewise_cases, path=['State/UnionTerritory'], values='Total Confirmed cases',\n",
    "                  color='Total Confirmed cases', hover_data=['State/UnionTerritory'],\n",
    "                  color_continuous_scale='RdBu')\n",
    "fig.show()"
   ]
  },
  {
   "cell_type": "markdown",
   "metadata": {},
   "source": [
    " "
   ]
  },
  {
   "cell_type": "code",
   "execution_count": null,
   "metadata": {},
   "outputs": [],
   "source": [
    "#Data Processing"
   ]
  },
  {
   "cell_type": "code",
   "execution_count": null,
   "metadata": {},
   "outputs": [],
   "source": [
    "covid_ind.head()\n",
    "covid_ind['Total Cases'] = covid_ind['ConfirmedIndianNational'] + covid_ind['ConfirmedForeignNational']\n",
    "\n",
    "# Adding Active Cases\n",
    "covid_ind['Active Cases'] = covid_ind['Total Cases'] - covid_ind['Cured'] - covid_ind['Deaths']\n",
    "\n",
    "# Renaming Column Names\n",
    "covid_ind.rename(columns = {'Cured':'Cured/Discharged/Migrated'}, inplace = True)\n"
   ]
  },
  {
   "cell_type": "code",
   "execution_count": null,
   "metadata": {},
   "outputs": [],
   "source": [
    "# Create Temp DF \n",
    "temp_df = covid_ind[covid_ind['Date']=='28/03/20']\n",
    "\n",
    "# Statewise Total Cases\n",
    "df_statewise = temp_df.groupby(['State/UnionTerritory', 'ConfirmedIndianNational', 'ConfirmedForeignNational',  'Cured/Discharged/Migrated'\\\n",
    "                      , 'Deaths', 'Active Cases'])['Total Cases'].sum().reset_index()\n",
    "df_statewise"
   ]
  },
  {
   "cell_type": "code",
   "execution_count": null,
   "metadata": {},
   "outputs": [],
   "source": [
    "# Creating function fo bolding out max\n",
    "def highlight_max_count(count):\n",
    "    is_max = count == count.max()\n",
    "    return ['background-color: #1f77b4' if v else '' for v in is_max]\n",
    "\n",
    "# Distribution of Cases in India\n",
    "df_statewise.style \\\n",
    "    .background_gradient(cmap=\"Blues\", subset=['ConfirmedIndianNational', 'ConfirmedForeignNational', 'Total Cases', 'Active Cases'])\\\n",
    "    .background_gradient(cmap=\"Greens\", subset=['Cured/Discharged/Migrated'])\\\n",
    "    .background_gradient(cmap=\"Reds\", subset=['Deaths'])"
   ]
  },
  {
   "cell_type": "code",
   "execution_count": null,
   "metadata": {},
   "outputs": [],
   "source": [
    "# Statewise \n",
    "x = df_statewise.groupby('State/UnionTerritory')['Active Cases'].sum().sort_values(ascending=False).to_frame()\n",
    "x.style.background_gradient(cmap='Reds')"
   ]
  },
  {
   "cell_type": "markdown",
   "metadata": {},
   "source": [
    " "
   ]
  },
  {
   "cell_type": "markdown",
   "metadata": {},
   "source": [
    "#### Visualizing Current Situation:"
   ]
  },
  {
   "cell_type": "code",
   "execution_count": null,
   "metadata": {},
   "outputs": [],
   "source": [
    "#Overall \n",
    "#df_india = pd.read_csv('covid_19_india.csv')\n",
    "\n",
    "\n",
    "#cov_ind = df_india.copy()\n",
    "#cov_ind['Confirmed'] = cov_ind['ConfirmedIndianNational'] + cov_ind['ConfirmedForeignNational']\n",
    "#cov_ind['Active'] = cov_ind['ConfirmedIndianNational'] + cov_ind['ConfirmedForeignNational'] - cov_ind['Cured'] - cov_ind['Deaths']\n",
    "\n",
    "a_c= temp['Active Cases'].sum()\n",
    "r_d = temp['Cured/Discharged/Migrated'].sum()\n",
    "d_h = temp['Deaths'].sum()\n",
    "fig = go.Figure(data=[go.Pie(labels=['Active Cases','Cured','Death'],\n",
    "                             values= [a_c,r_d,d_h],hole =.3)])\n",
    "fig.update_traces(hoverinfo='label+percent', textinfo='value', textfont_size=20,\n",
    "                  marker=dict(colors=['#263fa3', '#2fcc41','#cc3c2f'], line=dict(color='#FFFFFF', width=2)))\n",
    "fig.update_layout(title_text='Current Situation in India',plot_bgcolor='rgb(275, 270, 273)')\n",
    "fig.show()"
   ]
  },
  {
   "cell_type": "markdown",
   "metadata": {},
   "source": [
    "###### In India, of all total cases:\n",
    "Active Cases: 775(88.8%)\n",
    "\n",
    "Cured/Recovered/Migrated: 79(9.05%)\n",
    "\n",
    "Deaths: 19(2.18%)"
   ]
  },
  {
   "cell_type": "markdown",
   "metadata": {},
   "source": [
    " "
   ]
  },
  {
   "cell_type": "markdown",
   "metadata": {},
   "source": [
    " "
   ]
  },
  {
   "cell_type": "markdown",
   "metadata": {},
   "source": [
    "#### ICMR Testing Details:"
   ]
  },
  {
   "cell_type": "code",
   "execution_count": null,
   "metadata": {},
   "outputs": [],
   "source": [
    "#Loading Data:\n",
    "df_hos_bed = pd.read_csv('ICMRTestingDetails.csv')\n",
    "df_hos_bed['DateTime'] = pd.to_datetime(df_hos_bed['DateTime'])\n",
    "df_hos_bed['DateTime'] = df_hos_bed['DateTime'].dt.date\n",
    "df_hos_bed.head()"
   ]
  },
  {
   "cell_type": "code",
   "execution_count": null,
   "metadata": {},
   "outputs": [],
   "source": [
    "#Data Cleaning and Processing:"
   ]
  },
  {
   "cell_type": "code",
   "execution_count": null,
   "metadata": {},
   "outputs": [],
   "source": [
    "df_hos_bed['totalnegative'] = df_hos_bed['TotalIndividualsTested'] - df_hos_bed['TotalPositiveCases']"
   ]
  },
  {
   "cell_type": "code",
   "execution_count": null,
   "metadata": {},
   "outputs": [],
   "source": [
    "df_hos_bed_per_day = df_hos_bed.drop_duplicates(subset=['DateTime'], keep='last')\n",
    "df_hos_bed_per_day['test_results_posratio'] = round(df_hos_bed_per_day['TotalPositiveCases']/df_hos_bed_per_day['TotalIndividualsTested'], 3)\n",
    "df_hos_bed_per_day.head()"
   ]
  },
  {
   "cell_type": "markdown",
   "metadata": {},
   "source": [
    "#### Validating ICMR Tests Results:"
   ]
  },
  {
   "cell_type": "code",
   "execution_count": null,
   "metadata": {},
   "outputs": [],
   "source": [
    "colors = ['#269A06', '#AF0E06']\n",
    "negative = round(df_hos_bed['totalnegative'].sum()/df_hos_bed['TotalIndividualsTested'].sum()*100, 2)\n",
    "positive = round(df_hos_bed['TotalPositiveCases'].sum()/df_hos_bed['TotalIndividualsTested'].sum()*100, 2)\n",
    "fig = go.Figure(data=[go.Pie(labels=['People who tested Negative','People who tested Positive'],\n",
    "                             values= [negative,positive],hole =.5)])\n",
    "                          \n",
    "\n",
    "fig.update_traces(title_text='COVID19 Test Results', hoverinfo='label+percent', textinfo='value', textfont_size=15,\n",
    "                  marker=dict(colors=colors, line=dict(color='#FFFFFF', width=2)))\n",
    "fig.show()"
   ]
  },
  {
   "cell_type": "markdown",
   "metadata": {},
   "source": [
    "The phase when the testings were done on suspects, majority of suspects were either citizens with recent travel history or the relatives and acquaintances of such citizens. Testings were deliberately and randomly carried at Airports majorly. Hence, the ratio of negative tested was found so high.  "
   ]
  },
  {
   "cell_type": "markdown",
   "metadata": {},
   "source": [
    "# \n",
    "#### Ratio of Positive Detection per Test w.r.t. Time"
   ]
  },
  {
   "cell_type": "code",
   "execution_count": null,
   "metadata": {},
   "outputs": [],
   "source": [
    "fig1 = go.Figure()\n",
    "fig1.add_trace(go.Scatter(x=df_hos_bed_per_day['DateTime'], y=df_hos_bed_per_day['test_results_posratio'], name='Confirmed Cases', \\\n",
    "                         marker=dict(color='#D32210')))\n",
    "fig1.layout.update(title_text='COVID-19 Positive Detection per Test Ratio in India w.r.t. Time',xaxis_showgrid=False, width=700,\n",
    "        height=500,font=dict(\n",
    "#         family=\"Courier New, monospace\",\n",
    "        size=12,\n",
    "        color=\"white\"\n",
    "    ))\n",
    "fig1.layout.plot_bgcolor = '#097E99'\n",
    "fig1.layout.paper_bgcolor = '#097E99'\n",
    "fig1.show()"
   ]
  },
  {
   "cell_type": "markdown",
   "metadata": {},
   "source": [
    "###### It can be noticed that cumulatively over the period of almost two weeks 2.05% of the total people tested for COVID-19 had been found positive in India\n",
    "\n",
    "\n",
    "###### But the positive ratio that turned 2x between March 18 and 25, that went from 1.2% to 2.4% was something that cannot be ignored ."
   ]
  },
  {
   "cell_type": "markdown",
   "metadata": {},
   "source": [
    " "
   ]
  },
  {
   "cell_type": "markdown",
   "metadata": {},
   "source": [
    "#### Capturing Individual Details"
   ]
  },
  {
   "cell_type": "code",
   "execution_count": null,
   "metadata": {},
   "outputs": [],
   "source": [
    "df_indi = pd.read_csv('IndividualDetails.csv')\n",
    "df_indi.head()"
   ]
  },
  {
   "cell_type": "code",
   "execution_count": null,
   "metadata": {},
   "outputs": [],
   "source": [
    "df_indi.dropna(subset=['current_status', 'age'], inplace=True)\n",
    "df_indi.reset_index(drop=True, inplace=True)"
   ]
  },
  {
   "cell_type": "code",
   "execution_count": null,
   "metadata": {},
   "outputs": [],
   "source": [
    "df_indi['current_status'].unique(), df_indi.shape"
   ]
  },
  {
   "cell_type": "code",
   "execution_count": null,
   "metadata": {},
   "outputs": [],
   "source": [
    "df1_indians = df_indi[df_indi['current_status'] == 'Deceased']\n",
    "df3_indians = df_indi[df_indi['current_status'] == 'Hospitalized']\n",
    "df2_indians = df_indi[df_indi['current_status'] == 'Recovered']\n",
    "cdf = pd.concat([df1_indians, df2_indians, df3_indians])\n",
    "plt.figure(figsize=(12,12))\n",
    "sns.boxplot(x=\"current_status\", y=\"age\", data=cdf).set_title(\"India's Outcome till now Age-Wise\")\n",
    "plt.show()"
   ]
  },
  {
   "cell_type": "markdown",
   "metadata": {},
   "source": [
    "The Patients Hospitalized belonged to age group: 22 to 60\n",
    "Recovered Patients belonged to age group: 30 to 65\n",
    "Deceased Patients: All Deceased Patients were Senior Citizens except a adult aged around 40 years. "
   ]
  },
  {
   "cell_type": "markdown",
   "metadata": {},
   "source": [
    " "
   ]
  },
  {
   "cell_type": "markdown",
   "metadata": {},
   "source": [
    "##### Analysing Cases with and without Travel History:"
   ]
  },
  {
   "cell_type": "code",
   "execution_count": null,
   "metadata": {},
   "outputs": [],
   "source": [
    "pep_no_trav_his = df_indi[df_indi['notes'].str.contains('Travel') == False]\n",
    "pep_with_trav_his = df_indi[df_indi['notes'].str.contains('Travel') == True]\n",
    "df_indi['id'].nunique(), pep_no_trav_his['id'].nunique()"
   ]
  },
  {
   "cell_type": "code",
   "execution_count": null,
   "metadata": {},
   "outputs": [],
   "source": [
    "colors = ['#B5B200', '#1300B5']\n",
    "negative = round(pep_no_trav_his['id'].nunique()/df_indi['id'].nunique()*100, 2)\n",
    "positive = round(pep_with_trav_his['id'].nunique()/df_indi['id'].nunique()*100, 2)\n",
    "                         \n",
    "fig = px.pie(pep_no_trav_his, values=[negative, positive], names=['Patients w/o Travel History', 'Patients with Travel History'], \\\n",
    "             title='Patients with and without Travel History')\n",
    "fig.show()"
   ]
  },
  {
   "cell_type": "markdown",
   "metadata": {},
   "source": [
    "23% of Total Patients tested positive were the ones with no Recent Travel History( Majority of them were Relatives, friends or people that directly or indirectly came in contact with the patients with Travel History)\n",
    "However, 23% is a large number to indicate the risk of Progression of Virus into Satge III (Community Spread)"
   ]
  },
  {
   "cell_type": "markdown",
   "metadata": {},
   "source": [
    "  "
   ]
  },
  {
   "cell_type": "code",
   "execution_count": null,
   "metadata": {},
   "outputs": [],
   "source": [
    "#Data Processing"
   ]
  },
  {
   "cell_type": "code",
   "execution_count": null,
   "metadata": {},
   "outputs": [],
   "source": [
    "individual_details = df_indi.rename(columns=lambda x: x.strip())\n",
    "\n",
    "cols_to_drop = ['unique_id','id','government_id','detected_city_pt','notes','current_location','current_location_pt','contacts']\n",
    "\n",
    "filter_data = individual_details.drop(cols_to_drop,axis=1)\n",
    "\n",
    "filter_data.head()"
   ]
  },
  {
   "cell_type": "code",
   "execution_count": null,
   "metadata": {},
   "outputs": [],
   "source": [
    "# Convert dates in one format\n",
    "import datetime as dt\n",
    "\n",
    "filter_data['status_change_date'] = pd.to_datetime(filter_data['status_change_date'])\n",
    "filter_data['diagnosed_date'] = pd.to_datetime(filter_data['diagnosed_date'])\n",
    "\n",
    "filter_data['Duration of Any Status'] = filter_data['status_change_date'] - filter_data['diagnosed_date']\n",
    "filter_data['Duration of Any Status'] = filter_data['Duration of Any Status'].dt.days\n",
    "\n",
    "filter_data['status_change_date'] = filter_data['status_change_date'].dt.strftime('%Y-%m-%d')\n",
    "filter_data['diagnosed_date'] = filter_data['diagnosed_date'].dt.strftime('%Y-%m-%d')"
   ]
  },
  {
   "cell_type": "code",
   "execution_count": null,
   "metadata": {},
   "outputs": [],
   "source": [
    "filter_data.info()"
   ]
  },
  {
   "cell_type": "code",
   "execution_count": null,
   "metadata": {},
   "outputs": [],
   "source": [
    "#Dropping Detetcted City and District as there are values for State\n",
    "\n",
    "\n",
    "drop_cols = ['detected_city','detected_district']\n",
    "\n",
    "covid_india_df = filter_data.drop(drop_cols,axis=1)\n",
    "\n",
    "covid_india_df.info()"
   ]
  },
  {
   "cell_type": "code",
   "execution_count": null,
   "metadata": {},
   "outputs": [],
   "source": [
    "covid_india_df.describe()"
   ]
  },
  {
   "cell_type": "code",
   "execution_count": null,
   "metadata": {},
   "outputs": [],
   "source": [
    "#Filling NAs in age with median\n",
    "covid_india_df.describe()\n",
    "covid_india_df['age'] = covid_india_df['age'].fillna(covid_india_df.age.median())\n",
    "covid_india_df['current_status'] = covid_india_df['current_status'].fillna(method='ffill')\n",
    "\n",
    "covid_india_df.info()"
   ]
  },
  {
   "cell_type": "code",
   "execution_count": null,
   "metadata": {},
   "outputs": [],
   "source": [
    "covid_india_df.head()"
   ]
  },
  {
   "cell_type": "code",
   "execution_count": null,
   "metadata": {},
   "outputs": [],
   "source": [
    "# Now at the broader scale by looking at the Duration. And we'll see if we can do any Clustering\n",
    "plt.figure(figsize=(18,9))\n",
    "sns.scatterplot(y = covid_india_df['Duration of Any Status'],x = covid_india_df['current_status']);\n",
    "plt.xlabel('Status of the Patient');\n",
    "plt.ylabel('Duration of Days from the time they were Admitted');\n",
    "plt.title('Distribution of Duration of Days wioth the Status of patients!');"
   ]
  },
  {
   "cell_type": "markdown",
   "metadata": {},
   "source": [
    " "
   ]
  },
  {
   "cell_type": "markdown",
   "metadata": {},
   "source": [
    "#### Impact of Covid-19 on different Age Groups:"
   ]
  },
  {
   "cell_type": "code",
   "execution_count": null,
   "metadata": {},
   "outputs": [],
   "source": [
    "# disecting age into bins to see which age group was affected most with covid-19\n",
    "# Taking a broad age group to form bins \n",
    "age_bins = [0,20,40,60,80,100]\n",
    "plt.figure(figsize=(16,6))\n",
    "sns.countplot(x=pd.cut(covid_india_df.age, age_bins), hue=covid_india_df.current_status, palette = ['#263A90', '#FFFF00', '#ee0a0a'])\n",
    "plt.xticks(rotation=90)\n",
    "plt.xlabel(\"Age Groups\")\n",
    "plt.yscale('log')\n",
    "plt.title(\"Age Groups affected with Covid-19\")\n",
    "plt.grid(True)\n",
    "plt.show()"
   ]
  },
  {
   "cell_type": "markdown",
   "metadata": {},
   "source": [
    "People with Age beyond 40s were found to be more vulnerable.\n",
    "\n",
    "It was observed that Senior Citizens were at potential risk as their Death rate was higher than Recovery Rate.\n",
    "\n",
    "People with Age below 40 had hgher recovery chances.\n",
    "\n",
    "In age group of Children and young-adults, no deaths were reported."
   ]
  },
  {
   "cell_type": "markdown",
   "metadata": {},
   "source": [
    " "
   ]
  },
  {
   "cell_type": "markdown",
   "metadata": {},
   "source": [
    "### Estimation of realistic number of cases in India:"
   ]
  },
  {
   "cell_type": "markdown",
   "metadata": {},
   "source": [
    "###### Abstract: \n",
    "\n",
    "The first COVID-19 case in India was reported on 30th January 2020, a student who arrived in Kerala state from Wuhan, China followed by 2 more cases in Kerala. For almost a month, no new cases were reported in India. \n",
    "\n",
    "However, on 8th March 2020, five new cases of COVID-19 in Kerala were again reported and since then the cases had been rising affecting 22 states and resulting in 19 deaths across the country as of 28th March 2020.\n",
    "\n",
    "On 13th March 2020, India reported its first coronavirus fatality in the state of Karnataka, followed by 3 more deaths in other states. \n",
    "\n",
    "On 28th March 2020, confirmed COVID-19 cases had risen to 775 with the state of Maharashtra bagging the maximum number of cases. \n",
    "\n",
    "As the number of confirmed cases increased in India, the question arised \"did those numbers represent the true number of cases in India?\"\n"
   ]
  },
  {
   "cell_type": "markdown",
   "metadata": {},
   "source": [
    "-------------------------------------------------------------------------------------------------------------------------------\n",
    "Three statistically determined variables that were used to obtain the estimation curve:\n",
    "\n",
    "doubling_rate = 6. days\n",
    "\n",
    "Mortality_rate = 0.01 or 1 %\n",
    "\n",
    "days_to_death = 17 days\n",
    "\n",
    "###### Doubling rate: \n",
    "It is the time it takes for the number of cases to double. \n",
    "For Coronavirus, it was found to be around 6 days on average. For now, the same rate is assumed for the sake of analysis.\n",
    "\n",
    "###### Mortality rate: \n",
    "\n",
    "It is assumed to be around 1%. REASON\n",
    "Countries that are well prepared had fatality rate of ~0.5% (South Korea) to ~0.9% (rest of China). Countries   that were under prepared had fatality rate between ~3%-5%.\n",
    "In other words: Countries that acted fast, wereable to reduce the number of deaths by a factor of ten. \n",
    "Acting fast includes - massive testing, measures taken to enforce Lockdown/Social Distancing/Quarantine to reduce the rate of spread (Flatten the curve)\n",
    "\n",
    "###### Days to death: \n",
    "It is statistically determined to be around 17 days. For now, the same rate is assumed for the sake of analysis."
   ]
  },
  {
   "cell_type": "code",
   "execution_count": null,
   "metadata": {},
   "outputs": [],
   "source": [
    "doubling_rate = 6\n",
    "Mortality_rate = 0.01\n",
    "days_to_death = 17"
   ]
  },
  {
   "cell_type": "code",
   "execution_count": null,
   "metadata": {},
   "outputs": [],
   "source": [
    "from ipywidgets import widgets\n",
    "DR_slider = widgets.FloatSlider(\n",
    "    value=6,\n",
    "    min=2.0,\n",
    "    max=8.0,\n",
    "    step=0.1,\n",
    "    description='Doubling Rate:',\n",
    "    readout=True,\n",
    "    readout_format='.1f',\n",
    "    continuous_update=True\n",
    ")\n",
    "\n",
    "M_slider = widgets.FloatSlider(\n",
    "    value=1.0,\n",
    "    min=0.5,\n",
    "    max=10.0,\n",
    "    step=0.1,\n",
    "    description='Mortality Rate %:',\n",
    "    readout=True,\n",
    "    readout_format='.1f',\n",
    "    continuous_update=True\n",
    ")\n",
    "Mortality_rate = M_slider.value/100\n",
    "\n",
    "\n",
    "Death_slider = widgets.FloatSlider(\n",
    "    value=17,\n",
    "    min=10.0,\n",
    "    max=60.0,\n",
    "    step=0.5,\n",
    "    description='Days to Death:',\n",
    "    readout=True,\n",
    "    readout_format='.1f',\n",
    "    continuous_update=True\n",
    ")\n",
    "days_to_death = Death_slider.value"
   ]
  },
  {
   "cell_type": "code",
   "execution_count": null,
   "metadata": {},
   "outputs": [],
   "source": [
    "death_df = covid_india.copy()\n",
    "death_df_filtered = death_df[death_df.Deaths != 0]\n",
    "\n",
    "### Finding states with deaths\n",
    "states = death_df_filtered.States.unique().tolist()\n",
    "#print(\"{}\\n\".format(states))\n",
    "\n",
    "####Number of days since Jan 30 2020\n",
    "i = covid_india.iloc[[0]].Date.tolist()[0]\n",
    "j = death_df.iloc[-1].Date\n",
    "size = int((j-i).days)+1"
   ]
  },
  {
   "cell_type": "code",
   "execution_count": null,
   "metadata": {},
   "outputs": [],
   "source": [
    "actual_total = np.zeros(size, dtype = int) ## Stores total realistic deaths\n",
    "actual_total_temp = np.zeros(size, dtype = int) ## Stores deaths of individual states and dates"
   ]
  },
  {
   "cell_type": "code",
   "execution_count": null,
   "metadata": {},
   "outputs": [],
   "source": [
    "### Loop over each state (The onces with deaths)\n",
    "count=0\n",
    "for state in states:\n",
    "    temp = death_df_filtered[death_df_filtered.States == state]\n",
    "    #for death in temp\n",
    "    #deathi = temp.iloc[[0]].Deaths.tolist()[0]\n",
    "    a = temp.drop_duplicates(subset='Deaths', keep=\"first\").Deaths.tolist()\n",
    "    b = np.diff(a)\n",
    "    deaths = np.concatenate(([a[0]], b), axis=0)"
   ]
  },
  {
   "cell_type": "code",
   "execution_count": null,
   "metadata": {
    "scrolled": false
   },
   "outputs": [],
   "source": [
    "### Loop over each state (The onces with deaths)\n",
    "count=0\n",
    "for state in states:\n",
    "    temp = death_df_filtered[death_df_filtered.States == state]\n",
    "    #for death in temp\n",
    "    #deathi = temp.iloc[[0]].Deaths.tolist()[0]\n",
    "    a = temp.drop_duplicates(subset='Deaths', keep=\"first\").Deaths.tolist()\n",
    "    b = np.diff(a)\n",
    "    deaths = np.concatenate(([a[0]], b), axis=0)\n",
    "    #print(deaths)\n",
    "    \n",
    "    \n",
    "    ### Loop over each day for each state\n",
    "    for i in range(0, len(deaths)):\n",
    "        ### Go back 17.3 days\n",
    "        start = temp.iloc[[i]].Date - timedelta(days=int(days_to_death))\n",
    "        start = int((death_df.iloc[-1].Date - start.tolist()[0]).days)\n",
    "        #print(start)\n",
    "        \n",
    "        ### Calculating the realistic cases for each day and stored in array for each state for each date\n",
    "        actual_total_temp[size - start-2] = deaths[i]/Mortality_rate\n",
    "        for i in range(size - start + int(doubling_rate) - 2, size, int(doubling_rate)):\n",
    "            actual_total_temp[i] = actual_total_temp[i-int(doubling_rate)]*2\n",
    "        #print(\"{}\\n\".format(actual_total_temp))\n",
    "        \n",
    "        ### Smoothening the curve for each array formed above\n",
    "        for i in range(size - start - 2, size-1, int(doubling_rate)):\n",
    "            smoother = int(actual_total_temp[i]/doubling_rate)\n",
    "            for j in range(i+1, i+int(doubling_rate)):\n",
    "                actual_total_temp[j] = actual_total_temp[j-1] + smoother\n",
    "                if j == size-1:\n",
    "                    i = size-1\n",
    "                    break\n",
    "                    \n",
    "        \n",
    "        print(\"{}\\n\".format(actual_total_temp))\n",
    "        ### Adding each state for each day to actual_total (Array)\n",
    "        actual_total = np.add(actual_total,actual_total_temp)\n",
    "        actual_total_temp = actual_total_temp*0\n",
    "\n",
    "#### Finally, actual_total is plotted next\n",
    "\n",
    "display(DR_slider, M_slider, Death_slider)"
   ]
  },
  {
   "cell_type": "code",
   "execution_count": null,
   "metadata": {},
   "outputs": [],
   "source": [
    "covid_india.sort_values(by=['States', 'Total Confirmed cases'], ascending = [True, False],inplace=True)\n",
    "covid_india.drop_duplicates(subset='States', keep=\"first\",inplace=True)\n",
    "covid_india.sort_values(by='Total Confirmed cases', ascending = False,inplace=True)\n",
    "covid_india.index = range(1,covid_india.shape[0]+1)\n",
    "\n",
    "print(f'Total number of Confirmed COVID 2019 cases across India:', covid_india['Total Confirmed cases'].sum())\n",
    "print('Estimation of realistic number of cases across India: {} - {} (Around {}-{}x Confirmed cases)'.format(int(actual_total[-1]/2), actual_total[-1], \n",
    "                                                                                                       int(actual_total[-1]/2/covid_india['Total Confirmed cases'].sum()), \n",
    "                                                                                                       int(actual_total[-1]/covid_india['Total Confirmed cases'].sum())))\n",
    "print('\\n')\n",
    "print(f'Total number of Active COVID 2019 cases across India:', covid_india['Total Active cases'].sum())\n",
    "print(f'Total number of Cured/Discharged/Migrated COVID 2019 cases across India:', covid_india['Cured/Discharged/Migrated'].sum())\n",
    "print(f'Total number of Deaths due to COVID 2019  across India:', covid_india['Deaths'].sum())\n",
    "print(f'Total number of States/UTs affected:', covid_india['States'].count())\n",
    "\n",
    "\n",
    "dbd_India = pd.read_excel('per_day_cases.xlsx',sheet_name='India')\n",
    "fig = go.Figure()\n",
    "fig.add_trace(go.Scatter(x=dbd_India['Date'], y=dbd_India['Total Cases'],\n",
    "                    mode='lines+markers',name='Total Cases'))\n",
    "\n",
    "fig.add_trace(go.Scatter(x=dbd_India['Date'], y=dbd_India['Recovered'], \n",
    "                mode='lines',name='Recovered'))\n",
    "fig.add_trace(go.Scatter(x=dbd_India['Date'], y=dbd_India['Active'], \n",
    "                mode='lines',name='Active'))\n",
    "fig.add_trace(go.Scatter(x=dbd_India['Date'], y=dbd_India['Deaths'], \n",
    "                mode='lines',name='Deaths'))\n",
    "fig.add_trace(go.Scatter(x=dbd_India['Date'], y=actual_total, \n",
    "                mode='lines+markers',name='Estimate of real Total cases'))\n",
    "    \n",
    "fig.update_layout(title_text='Trend of Coronavirus Cases in India(Confirmed vs Realistic cases)',plot_bgcolor='rgb(250, 242, 242)')\n",
    "\n",
    "fig.show()\n",
    "\n",
    "fig = go.Figure()\n",
    "fig.add_trace(go.Scatter(x=dbd_India['Date'], y=dbd_India['Deaths'], \n",
    "                mode='lines',name='Deaths'))\n",
    "fig.update_layout(title_text='Deaths',plot_bgcolor='rgb(250, 242, 242)')\n",
    "\n",
    "fig.show()\n",
    "\n",
    "import plotly.express as px\n",
    "fig = go.Figure(data=[\n",
    "    go.Bar(name = \"Confirmed cases\", x=dbd_India.Date.tolist(), y=dbd_India['New Cases'].tolist()),\n",
    "    go.Bar(name = \"Realistic\", x=dbd_India.Date.tolist(), y=np.diff(actual_total))\n",
    "])\n",
    "fig.update_layout(barmode='group')\n",
    "fig.update_layout(title_text='New Coronavirus Cases in India per day',plot_bgcolor='rgb(250, 242, 242)')\n",
    "\n",
    "fig.show()"
   ]
  },
  {
   "cell_type": "markdown",
   "metadata": {},
   "source": [
    "Indeterminable variables of the model\n",
    "The model used didnt look perfect, it just gave an idea of how many cases could be actually present. \n",
    "\n",
    "There were a lot of additional variables to consider. \n",
    "For instance, age distribution in each country would also have an impact: Since mortality was observed much higher for older people, regions with aging population like in Europe would be harder hit on average than younger countries like India. \n",
    "There were  more factors viz. weather - environmental, food and lifestyle habits. \n",
    "But it’s still unclear how this would impact transmission and fatality rates.\n",
    "\n",
    "One more thing to consider was the number of tests per million people and number of hospital beds per 1000 people. \n",
    "In current situation, India ranks among the lowest in both. \n",
    "Many cases and deaths might go unreported especially in rural areas due to lack of testing and self treatment phenomenon that existed in India\n",
    "\n",
    "###### Current Scenario\n",
    "Around 20% of cases require hospitalization, 5% of cases require the Intensive Care Unit (ICU), and around 2.5% require very intensive help, with items such as ventilators or ECMO (extra-corporeal oxygenation).\n",
    "\n",
    "###### Best Solution\n",
    "Social Distancing and Maintaining hygeine, Following guidelines layed down in public interest."
   ]
  },
  {
   "cell_type": "markdown",
   "metadata": {},
   "source": [
    " "
   ]
  },
  {
   "cell_type": "markdown",
   "metadata": {},
   "source": [
    "#### Forecasting Month's predictions using ML Algorithms:"
   ]
  },
  {
   "cell_type": "code",
   "execution_count": null,
   "metadata": {},
   "outputs": [],
   "source": [
    "#Loading Global Data:"
   ]
  },
  {
   "cell_type": "code",
   "execution_count": null,
   "metadata": {},
   "outputs": [],
   "source": [
    "confirmed_df = pd.read_csv('time_series_covid_19_confirmed.csv')\n",
    "deaths_df = pd.read_csv('time_series_covid_19_deaths.csv')"
   ]
  },
  {
   "cell_type": "code",
   "execution_count": null,
   "metadata": {},
   "outputs": [],
   "source": [
    "confirmed_df[confirmed_df['Country/Region']=='India']"
   ]
  },
  {
   "cell_type": "code",
   "execution_count": null,
   "metadata": {},
   "outputs": [],
   "source": [
    "cols = confirmed_df.keys()            "
   ]
  },
  {
   "cell_type": "markdown",
   "metadata": {},
   "source": [
    "Get all the dates for the outbreak"
   ]
  },
  {
   "cell_type": "code",
   "execution_count": null,
   "metadata": {},
   "outputs": [],
   "source": [
    "confirmed = confirmed_df.loc[:, cols[4]:cols[-1]]\n",
    "deaths = deaths_df.loc[:, cols[4]:cols[-1]]\n",
    "confirmed"
   ]
  },
  {
   "cell_type": "code",
   "execution_count": null,
   "metadata": {},
   "outputs": [],
   "source": [
    "dates = confirmed.keys()\n",
    "world_cases = []\n",
    "total_deaths = [] \n",
    "mortality_rate = []\n",
    "india_cases = [] \n",
    "\n",
    "for i in dates:\n",
    "    confirmed_sum = confirmed[i].sum()\n",
    "    death_sum = deaths[i].sum()\n",
    "    \n",
    "    \n",
    "    world_cases.append(confirmed_sum)\n",
    "    total_deaths.append(death_sum)\n",
    "\n",
    "    # calculate rates\n",
    "    mortality_rate.append(death_sum/confirmed_sum)\n",
    "\n",
    "    india_cases.append(confirmed_df[confirmed_df['Country/Region']=='India'][i].sum())"
   ]
  },
  {
   "cell_type": "code",
   "execution_count": null,
   "metadata": {},
   "outputs": [],
   "source": [
    "def daily_increase(data):\n",
    "    d = [] \n",
    "    for i in range(len(data)):\n",
    "        if i == 0:\n",
    "            d.append(data[0])\n",
    "        else:\n",
    "            d.append(data[i]-data[i-1])\n",
    "    return d \n",
    "\n",
    "world_daily_increase = daily_increase(world_cases)\n",
    "india_daily_increase = daily_increase(india_cases)"
   ]
  },
  {
   "cell_type": "code",
   "execution_count": null,
   "metadata": {},
   "outputs": [],
   "source": [
    "days_since_1_22 = np.array([i for i in range(len(dates))]).reshape(-1, 1)\n",
    "india_cases = np.array(india_cases).reshape(-1, 1)\n",
    "total_deaths = np.array(total_deaths).reshape(-1, 1)"
   ]
  },
  {
   "cell_type": "markdown",
   "metadata": {},
   "source": [
    "###### Future forcasting"
   ]
  },
  {
   "cell_type": "code",
   "execution_count": null,
   "metadata": {},
   "outputs": [],
   "source": [
    "days_in_future = 30\n",
    "future_forcast = np.array([i for i in range(len(dates)+days_in_future)]).reshape(-1, 1)\n",
    "adjusted_dates = future_forcast[:-30]"
   ]
  },
  {
   "cell_type": "code",
   "execution_count": null,
   "metadata": {},
   "outputs": [],
   "source": [
    "import datetime\n",
    "start = '1/22/2020'\n",
    "start_date = datetime.datetime.strptime(start, '%m/%d/%Y')\n",
    "future_forcast_dates = []\n",
    "for i in range(len(future_forcast)):\n",
    "    future_forcast_dates.append((start_date + datetime.timedelta(days=i)).strftime('%m/%d/%Y'))"
   ]
  },
  {
   "cell_type": "code",
   "execution_count": null,
   "metadata": {},
   "outputs": [],
   "source": [
    "#Importing Libraries:"
   ]
  },
  {
   "cell_type": "code",
   "execution_count": null,
   "metadata": {},
   "outputs": [],
   "source": [
    "from sklearn.linear_model import LinearRegression, BayesianRidge\n",
    "from sklearn.model_selection import RandomizedSearchCV, train_test_split\n",
    "from sklearn.preprocessing import PolynomialFeatures\n",
    "from sklearn.svm import SVR\n",
    "from sklearn.metrics import mean_squared_error, mean_absolute_error"
   ]
  },
  {
   "cell_type": "markdown",
   "metadata": {},
   "source": [
    "#### train_test_split"
   ]
  },
  {
   "cell_type": "code",
   "execution_count": null,
   "metadata": {},
   "outputs": [],
   "source": [
    "seed = 1\n",
    "X_train_confirmed, X_test_confirmed, y_train_confirmed, y_test_confirmed = train_test_split(days_since_1_22, india_cases, test_size=0.28, random_state = seed) "
   ]
  },
  {
   "cell_type": "markdown",
   "metadata": {},
   "source": [
    "#### Building Models for predicting no. of confirmed cases. \n",
    "###### SVM(R),  Linear Regression(ploynomial), Bayesian Ridgse Regression were considered for the case study"
   ]
  },
  {
   "cell_type": "code",
   "execution_count": null,
   "metadata": {},
   "outputs": [],
   "source": [
    "svm_confirmed = SVR(shrinking=True, kernel='poly',gamma=0.01, epsilon=1,degree=6, C=0.1)\n",
    "svm_confirmed.fit(X_train_confirmed, y_train_confirmed)\n",
    "svm_pred = svm_confirmed.predict(future_forcast)"
   ]
  },
  {
   "cell_type": "code",
   "execution_count": null,
   "metadata": {},
   "outputs": [],
   "source": [
    "# check against testing data\n",
    "svm_test_pred = svm_confirmed.predict(X_test_confirmed)\n",
    "plt.plot(svm_test_pred)\n",
    "plt.plot(y_test_confirmed)\n",
    "print('MAE:', mean_absolute_error(svm_test_pred, y_test_confirmed))\n",
    "print('MSE:',mean_squared_error(svm_test_pred, y_test_confirmed))"
   ]
  },
  {
   "cell_type": "code",
   "execution_count": null,
   "metadata": {},
   "outputs": [],
   "source": [
    "# transform our data for polynomial regression\n",
    "poly = PolynomialFeatures(degree=5)\n",
    "poly_X_train_confirmed = poly.fit_transform(X_train_confirmed)\n",
    "poly_X_test_confirmed = poly.fit_transform(X_test_confirmed)\n",
    "poly_future_forcast = poly.fit_transform(future_forcast)"
   ]
  },
  {
   "cell_type": "code",
   "execution_count": null,
   "metadata": {},
   "outputs": [],
   "source": [
    "# polynomial regression\n",
    "linear_model = LinearRegression(normalize=True, fit_intercept=False)\n",
    "linear_model.fit(poly_X_train_confirmed, y_train_confirmed)\n",
    "test_linear_pred = linear_model.predict(poly_X_test_confirmed)\n",
    "linear_pred = linear_model.predict(poly_future_forcast)\n",
    "print('MAE:', mean_absolute_error(test_linear_pred, y_test_confirmed))\n",
    "print('MSE:',mean_squared_error(test_linear_pred, y_test_confirmed))"
   ]
  },
  {
   "cell_type": "code",
   "execution_count": null,
   "metadata": {},
   "outputs": [],
   "source": [
    "print(linear_model.coef_)"
   ]
  },
  {
   "cell_type": "code",
   "execution_count": null,
   "metadata": {},
   "outputs": [],
   "source": [
    "plt.plot(test_linear_pred)\n",
    "plt.plot(y_test_confirmed)"
   ]
  },
  {
   "cell_type": "code",
   "execution_count": null,
   "metadata": {},
   "outputs": [],
   "source": [
    "# bayesian ridge polynomial regression\n",
    "tol = [1e-4, 1e-3, 1e-2]\n",
    "alpha_1 = [1e-7, 1e-6, 1e-5, 1e-4]\n",
    "alpha_2 = [1e-7, 1e-6, 1e-5, 1e-4]\n",
    "lambda_1 = [1e-7, 1e-6, 1e-5, 1e-4]\n",
    "lambda_2 = [1e-7, 1e-6, 1e-5, 1e-4]\n",
    "\n",
    "bayesian_grid = {'tol': tol, 'alpha_1': alpha_1, 'alpha_2' : alpha_2, 'lambda_1': lambda_1, 'lambda_2' : lambda_2}\n",
    "\n",
    "bayesian = BayesianRidge(fit_intercept=False, normalize=True)\n",
    "bayesian_search = RandomizedSearchCV(bayesian, bayesian_grid, scoring='neg_mean_squared_error', cv=3, return_train_score=True, n_jobs=-1, n_iter=40, verbose=1)\n",
    "bayesian_search.fit(poly_X_train_confirmed, y_train_confirmed)"
   ]
  },
  {
   "cell_type": "code",
   "execution_count": null,
   "metadata": {},
   "outputs": [],
   "source": [
    "bayesian_search.best_params_"
   ]
  },
  {
   "cell_type": "code",
   "execution_count": null,
   "metadata": {},
   "outputs": [],
   "source": [
    "bayesian_confirmed = bayesian_search.best_estimator_\n",
    "test_bayesian_pred = bayesian_confirmed.predict(poly_X_test_confirmed)\n",
    "bayesian_pred = bayesian_confirmed.predict(poly_future_forcast)\n",
    "print('MAE:', mean_absolute_error(test_bayesian_pred, y_test_confirmed))\n",
    "print('MSE:',mean_squared_error(test_bayesian_pred, y_test_confirmed))"
   ]
  },
  {
   "cell_type": "code",
   "execution_count": null,
   "metadata": {},
   "outputs": [],
   "source": [
    "plt.plot(y_test_confirmed)\n",
    "plt.plot(test_bayesian_pred)"
   ]
  },
  {
   "cell_type": "markdown",
   "metadata": {},
   "source": [
    " "
   ]
  },
  {
   "cell_type": "markdown",
   "metadata": {},
   "source": [
    "#### Future predictions using SVM:"
   ]
  },
  {
   "cell_type": "code",
   "execution_count": null,
   "metadata": {},
   "outputs": [],
   "source": [
    "# Future predictions using SVM \n",
    "print('SVM future predictions:')\n",
    "set(zip(future_forcast_dates[-30:], np.round(svm_pred[-30:])))"
   ]
  },
  {
   "cell_type": "markdown",
   "metadata": {},
   "source": [
    "#### Visualizing Graph for Forecasts(SVR):"
   ]
  },
  {
   "cell_type": "code",
   "execution_count": null,
   "metadata": {},
   "outputs": [],
   "source": [
    "svm_zip = set(zip(future_forcast_dates[-30:], np.round(svm_pred[-30:])))\n",
    "# unzipping values \n",
    "Date, Conf_cases = zip(*svm_zip) \n",
    "Dates = list(Date)\n",
    "Confirm_cases = list(Conf_cases)\n",
    "print(Dates)\n",
    "print(Confirm_cases)"
   ]
  },
  {
   "cell_type": "code",
   "execution_count": null,
   "metadata": {},
   "outputs": [],
   "source": [
    "# dictionary of lists  \n",
    "dict = {'dates': Dates, 'cases': Confirm_cases}\n",
    "\n",
    "svm_df = pd.DataFrame(dict)\n",
    "svm_df.head()"
   ]
  },
  {
   "cell_type": "code",
   "execution_count": null,
   "metadata": {},
   "outputs": [],
   "source": [
    "plt.figure(figsize=[28,28])\n",
    "plt.subplot(2,2,1)\n",
    "ax1 = sns.lineplot(x=\"dates\", y=\"cases\", data = svm_df, markers=True, dashes=True,label='SVM Forecast',color='red')\n",
    "ax1.set(xlabel='Date',ylabel='Number of Cases Forecast')\n",
    "plt.xticks(rotation=90)"
   ]
  },
  {
   "cell_type": "markdown",
   "metadata": {},
   "source": [
    " The model predicted the total number of cases in India would reach 7700 by 27th April 2020."
   ]
  },
  {
   "cell_type": "markdown",
   "metadata": {},
   "source": [
    "#### Future predictions using Polynomial Regression"
   ]
  },
  {
   "cell_type": "code",
   "execution_count": null,
   "metadata": {},
   "outputs": [],
   "source": [
    "# Future predictions using Polynomial Regression \n",
    "linear_pred = linear_pred.reshape(1,-1)[0]\n",
    "print('Polynomial regression future predictions:')\n",
    "set(zip(future_forcast_dates[-30:], np.round(linear_pred[-30:])))"
   ]
  },
  {
   "cell_type": "markdown",
   "metadata": {},
   "source": [
    "#### Visualizing Graph for Polynomial Regression:"
   ]
  },
  {
   "cell_type": "code",
   "execution_count": null,
   "metadata": {},
   "outputs": [],
   "source": [
    "poly_zip = set(zip(future_forcast_dates[-30:], np.round(linear_pred[-30:])))\n",
    "# unzipping values \n",
    "Date, Conf_cases = zip(*poly_zip) \n",
    "Dates = list(Date)\n",
    "Confirm_cases = list(Conf_cases)\n",
    "print(Dates)\n",
    "print(Confirm_cases)"
   ]
  },
  {
   "cell_type": "code",
   "execution_count": null,
   "metadata": {},
   "outputs": [],
   "source": [
    "# dictionary of lists  \n",
    "dict = {'dates': Dates, 'cases': Confirm_cases}\n",
    "\n",
    "poly_df = pd.DataFrame(dict)\n",
    "poly_df.head()"
   ]
  },
  {
   "cell_type": "code",
   "execution_count": null,
   "metadata": {},
   "outputs": [],
   "source": [
    "plt.figure(figsize=[28,28])\n",
    "plt.subplot(2,2,1)\n",
    "ax1 = sns.lineplot(x=\"dates\", y=\"cases\", data = poly_df, markers=True, dashes=True,label='Ploy_reg Forecast',color='red')\n",
    "ax1.set(xlabel='Date',ylabel='Number of Cases Forecast')\n",
    "plt.xticks(rotation=90)"
   ]
  },
  {
   "cell_type": "markdown",
   "metadata": {},
   "source": [
    "#### The model predicted the total number of cases in India would reach 19400 by 27th April 2020."
   ]
  },
  {
   "cell_type": "markdown",
   "metadata": {},
   "source": [
    "#### Future predictions using Bayseian Ridge Regression "
   ]
  },
  {
   "cell_type": "code",
   "execution_count": null,
   "metadata": {},
   "outputs": [],
   "source": [
    "# Future predictions using Bayseian Ridge Regression \n",
    "print('Ridge regression future predictions:')\n",
    "set(zip(future_forcast_dates[-30:], np.round(bayesian_pred[-30:])))"
   ]
  },
  {
   "cell_type": "markdown",
   "metadata": {},
   "source": [
    "#### Visualizing the forecast predicted by Bayesian Model: "
   ]
  },
  {
   "cell_type": "code",
   "execution_count": null,
   "metadata": {},
   "outputs": [],
   "source": [
    "bay_zip = set(zip(future_forcast_dates[-30:], np.round(bayesian_pred[-30:])))\n",
    "# unzipping values \n",
    "Date, Conf_cases = zip(*bay_zip) \n",
    "Dates = list(Date)\n",
    "Confirm_cases = list(Conf_cases)\n",
    "print(Dates)\n",
    "print(Confirm_cases)"
   ]
  },
  {
   "cell_type": "code",
   "execution_count": null,
   "metadata": {},
   "outputs": [],
   "source": [
    "# dictionary of lists  \n",
    "dict = {'dates': Dates, 'cases': Confirm_cases}\n",
    "\n",
    "bay_df = pd.DataFrame(dict)\n",
    "bay_df.head()"
   ]
  },
  {
   "cell_type": "code",
   "execution_count": null,
   "metadata": {},
   "outputs": [],
   "source": [
    "plt.figure(figsize=[28,28])\n",
    "plt.subplot(2,2,1)\n",
    "ax1 = sns.lineplot(x=\"dates\", y=\"cases\", data = bay_df, markers=True, dashes=True,label='Bay_Ridge_reg Forecast',color='red')\n",
    "ax1.set(xlabel='Date',ylabel='Number of Cases Forecast')\n",
    "plt.xticks(rotation=90)"
   ]
  },
  {
   "cell_type": "markdown",
   "metadata": {},
   "source": [
    "#### The model predicted the total number of cases in India would reach 19400 by 27th April 2020\n",
    "\n",
    "\n",
    "In these model predictions, one major factor was not taken into consideration: India's move of Cuntry Lockdown.\n",
    "So, numbers are subjected to change. \n",
    "\n",
    "Data of First week of April would set the proper tone for future predictions. "
   ]
  },
  {
   "cell_type": "markdown",
   "metadata": {},
   "source": [
    "Getting information about countries/regions that have confirmed coronavirus cases:"
   ]
  },
  {
   "cell_type": "code",
   "execution_count": null,
   "metadata": {
    "scrolled": false
   },
   "outputs": [],
   "source": [
    "import operator \n",
    "latest_confirmed = confirmed_df[dates[-1]]\n",
    "latest_deaths = deaths_df[dates[-1]]\n",
    "\n",
    "unique_countries =  list(confirmed_df['Country/Region'].unique())\n",
    "country_confirmed_cases = []\n",
    "no_cases = []\n",
    "for i in unique_countries:\n",
    "    cases = latest_confirmed[confirmed_df['Country/Region']==i].sum()\n",
    "    if cases > 0:\n",
    "        country_confirmed_cases.append(cases)\n",
    "    else:\n",
    "        no_cases.append(i)\n",
    "        \n",
    "for i in no_cases:\n",
    "    unique_countries.remove(i)\n",
    "    \n",
    "# sort countries by the number of confirmed cases\n",
    "unique_countries = [k for k, v in sorted(zip(unique_countries, country_confirmed_cases), key=operator.itemgetter(1), reverse=True)]\n",
    "for i in range(len(unique_countries)):\n",
    "    country_confirmed_cases[i] = latest_confirmed[confirmed_df['Country/Region']==unique_countries[i]].sum()\n",
    "# number of cases per country/region\n",
    "print('Confirmed Cases by Countries/Regions:')\n",
    "for i in range(len(unique_countries)):\n",
    "    print(f'{unique_countries[i]}: {country_confirmed_cases[i]} cases') "
   ]
  },
  {
   "cell_type": "markdown",
   "metadata": {
    "scrolled": false
   },
   "source": [
    " "
   ]
  },
  {
   "cell_type": "markdown",
   "metadata": {},
   "source": [
    "### Conclusion and Recommendations:"
   ]
  },
  {
   "cell_type": "markdown",
   "metadata": {},
   "source": [
    "##### Conclusion:\n",
    "COVID-19 is spreading with astonishing speed; COVID-19 outbreaks in any setting have\n",
    "very serious consequences; and there is now strong evidence that non-pharmaceutical\n",
    "interventions can reduce and even interrupt transmission. Concerningly, global and\n",
    "national preparedness planning is often ambivalent about such interventions. However,\n",
    "to reduce COVID-19 illness and death, near-term readiness planning must embrace the\n",
    "large-scale implementation of high-quality, non-pharmaceutical public health measures.\n",
    "These measures must fully incorporate immediate case detection and isolation, rigorous\n",
    "close contact tra\n",
    "\n",
    "\n",
    "##### Recommendations: \n",
    "1. Immediately activate the highest level of national Response Management\n",
    "protocols to ensure the all-of-government and all-of-society approach needed to\n",
    "contain COVID-19 with non-pharmaceutical public health measures;\n",
    "2. Prioritize active, exhaustive case finding and immediate testing and isolation,\n",
    "painstaking contact tracing and rigorous quarantine of close contacts;\n",
    "3. Fully educate the general public on the seriousness of COVID-19 and their role in\n",
    "preventing its spread;\n",
    "4. Immediately expand surveillance to detect COVID-19 transmission chains, by\n",
    "testing all patients with atypical pneumonias, conducting screening in some\n",
    "patients with upper respiratory illnesses and/or recent COVID-19 exposure, and\n",
    "adding testing for the COVID-19 virus to existing surveillance systems (e.g.\n",
    "systems for influenza-like-illness and SARI); and \n",
    "22\n",
    "5. Conduct multi-sector scenario planning and simulations for the deployment of\n",
    "even more stringent measures to interrupt transmission chains as needed (e.g.\n",
    "the suspension of large-scale gatherings and the closure of schools and\n",
    "workplaces).\n"
   ]
  },
  {
   "cell_type": "code",
   "execution_count": null,
   "metadata": {},
   "outputs": [],
   "source": []
  },
  {
   "cell_type": "code",
   "execution_count": null,
   "metadata": {},
   "outputs": [],
   "source": []
  },
  {
   "cell_type": "code",
   "execution_count": null,
   "metadata": {},
   "outputs": [],
   "source": []
  }
 ],
 "metadata": {
  "kernelspec": {
   "display_name": "Python 3",
   "language": "python",
   "name": "python3"
  },
  "language_info": {
   "codemirror_mode": {
    "name": "ipython",
    "version": 3
   },
   "file_extension": ".py",
   "mimetype": "text/x-python",
   "name": "python",
   "nbconvert_exporter": "python",
   "pygments_lexer": "ipython3",
   "version": "3.8.8"
  }
 },
 "nbformat": 4,
 "nbformat_minor": 2
}
